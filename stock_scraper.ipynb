{
 "cells": [
  {
   "cell_type": "code",
   "execution_count": 1,
   "metadata": {
    "colab": {
     "base_uri": "https://localhost:8080/"
    },
    "id": "wXTspc7gZE21",
    "outputId": "424c013b-65f5-43ca-e4ef-40fee2898831"
   },
   "outputs": [
    {
     "name": "stdout",
     "output_type": "stream",
     "text": [
      "Collecting telethon\n",
      "  Downloading Telethon-1.38.1-py3-none-any.whl.metadata (3.6 kB)\n",
      "Requirement already satisfied: textblob in /usr/local/lib/python3.10/dist-packages (0.17.1)\n",
      "Requirement already satisfied: pandas in /usr/local/lib/python3.10/dist-packages (2.2.2)\n",
      "Requirement already satisfied: nest-asyncio in /usr/local/lib/python3.10/dist-packages (1.6.0)\n",
      "Collecting pyaes (from telethon)\n",
      "  Downloading pyaes-1.6.1.tar.gz (28 kB)\n",
      "  Preparing metadata (setup.py) ... \u001b[?25l\u001b[?25hdone\n",
      "Requirement already satisfied: rsa in /usr/local/lib/python3.10/dist-packages (from telethon) (4.9)\n",
      "Requirement already satisfied: nltk>=3.1 in /usr/local/lib/python3.10/dist-packages (from textblob) (3.9.1)\n",
      "Requirement already satisfied: numpy>=1.22.4 in /usr/local/lib/python3.10/dist-packages (from pandas) (1.26.4)\n",
      "Requirement already satisfied: python-dateutil>=2.8.2 in /usr/local/lib/python3.10/dist-packages (from pandas) (2.8.2)\n",
      "Requirement already satisfied: pytz>=2020.1 in /usr/local/lib/python3.10/dist-packages (from pandas) (2024.2)\n",
      "Requirement already satisfied: tzdata>=2022.7 in /usr/local/lib/python3.10/dist-packages (from pandas) (2024.2)\n",
      "Requirement already satisfied: click in /usr/local/lib/python3.10/dist-packages (from nltk>=3.1->textblob) (8.1.7)\n",
      "Requirement already satisfied: joblib in /usr/local/lib/python3.10/dist-packages (from nltk>=3.1->textblob) (1.4.2)\n",
      "Requirement already satisfied: regex>=2021.8.3 in /usr/local/lib/python3.10/dist-packages (from nltk>=3.1->textblob) (2024.9.11)\n",
      "Requirement already satisfied: tqdm in /usr/local/lib/python3.10/dist-packages (from nltk>=3.1->textblob) (4.66.6)\n",
      "Requirement already satisfied: six>=1.5 in /usr/local/lib/python3.10/dist-packages (from python-dateutil>=2.8.2->pandas) (1.16.0)\n",
      "Requirement already satisfied: pyasn1>=0.1.3 in /usr/local/lib/python3.10/dist-packages (from rsa->telethon) (0.6.1)\n",
      "Downloading Telethon-1.38.1-py3-none-any.whl (702 kB)\n",
      "\u001b[2K   \u001b[90m━━━━━━━━━━━━━━━━━━━━━━━━━━━━━━━━━━━━━━━━\u001b[0m \u001b[32m702.2/702.2 kB\u001b[0m \u001b[31m12.0 MB/s\u001b[0m eta \u001b[36m0:00:00\u001b[0m\n",
      "\u001b[?25hBuilding wheels for collected packages: pyaes\n",
      "  Building wheel for pyaes (setup.py) ... \u001b[?25l\u001b[?25hdone\n",
      "  Created wheel for pyaes: filename=pyaes-1.6.1-py3-none-any.whl size=26346 sha256=659219089f4865879f0b47fd54dbd51af9930a62a2fda2dfe09d168118a0b8a5\n",
      "  Stored in directory: /root/.cache/pip/wheels/d6/84/5f/ea6aef85a93c7e1922486369874f4740a5642d261e09c59140\n",
      "Successfully built pyaes\n",
      "Installing collected packages: pyaes, telethon\n",
      "Successfully installed pyaes-1.6.1 telethon-1.38.1\n"
     ]
    }
   ],
   "source": [
    "!pip install telethon textblob pandas nest-asyncio\n"
   ]
  },
  {
   "cell_type": "code",
   "execution_count": 2,
   "metadata": {
    "id": "vY_tfwTBafpx"
   },
   "outputs": [],
   "source": [
    "# Import necessary libraries\n",
    "from telethon.sync import TelegramClient\n",
    "from textblob import TextBlob\n",
    "import pandas as pd\n",
    "import nest_asyncio\n",
    "nest_asyncio.apply()"
   ]
  },
  {
   "cell_type": "code",
   "execution_count": null,
   "metadata": {
    "id": "JtjzPfdnalD8"
   },
   "outputs": [],
   "source": [
    "# Set up Telegram API credentials\n",
    "api_id = os.getenv(\"TELEGRAM_API_ID\")  \n",
    "api_hash = os.getenv(\"TELEGRAM_API_HASH\")  \n",
    "session_name = 'stock_scraper'\n"
   ]
  },
  {
   "cell_type": "code",
   "execution_count": 4,
   "metadata": {
    "id": "Qj74hHnwa2Cv"
   },
   "outputs": [],
   "source": [
    "# Connect to Telegram\n",
    "client = TelegramClient(session_name, api_id, api_hash)"
   ]
  },
  {
   "cell_type": "code",
   "execution_count": 5,
   "metadata": {
    "id": "Wf3R79aPa2Pp"
   },
   "outputs": [],
   "source": [
    "async def scrape_telegram(channel_username, limit=100):\n",
    "    \"\"\"\n",
    "    Scrape messages from a specified Telegram channel.\n",
    "\n",
    "    Args:\n",
    "        channel_username (str): Username of the target Telegram channel.\n",
    "        limit (int): Number of messages to scrape.\n",
    "\n",
    "    Returns:\n",
    "        list: Scraped messages.\n",
    "    \"\"\"\n",
    "    messages = []\n",
    "    async with client:\n",
    "        async for message in client.iter_messages(channel_username, limit=limit):\n",
    "            if message.message:\n",
    "                messages.append(message.message)\n",
    "    return messages"
   ]
  },
  {
   "cell_type": "code",
   "execution_count": null,
   "metadata": {
    "colab": {
     "base_uri": "https://localhost:8080/"
    },
    "id": "uKhnfU_Ka-qR",
    "outputId": "7a5cff42-0178-42ec-96f1-b184b74f2f8b"
   },
   "outputs": [],
   "source": [
    "# Scrape messages from a public Telegram channel\n",
    "channel_username = 'StocktwitsIndia'  # Replace with the channel username\n",
    "async def main():\n",
    "    return await scrape_telegram(channel_username, limit=200)\n",
    "\n",
    "scraped_messages = client.loop.run_until_complete(main())\n",
    "print(f\"Scraped {len(scraped_messages)} messages.\")"
   ]
  },
  {
   "cell_type": "code",
   "execution_count": 7,
   "metadata": {
    "id": "GdmKm-whbF2M"
   },
   "outputs": [],
   "source": [
    "# Save messages to a DataFrame\n",
    "df = pd.DataFrame({'Message': scraped_messages})"
   ]
  },
  {
   "cell_type": "code",
   "execution_count": 8,
   "metadata": {
    "id": "9QGg4vKtbcMR"
   },
   "outputs": [],
   "source": [
    "# Perform sentiment analysis\n",
    "df['Sentiment'] = df['Message'].apply(lambda x: TextBlob(x).sentiment.polarity)"
   ]
  },
  {
   "cell_type": "code",
   "execution_count": 9,
   "metadata": {
    "colab": {
     "base_uri": "https://localhost:8080/"
    },
    "id": "oUGHRG5ObegW",
    "outputId": "01fce0d5-e679-41ee-ac21-695e4a51b2f9"
   },
   "outputs": [
    {
     "name": "stdout",
     "output_type": "stream",
     "text": [
      "Data saved to 'processed_messages.csv'.\n"
     ]
    }
   ],
   "source": [
    "# Save processed data for the prediction model\n",
    "df.to_csv('processed_messages.csv', index=False)\n",
    "print(\"Data saved to 'processed_messages.csv'.\")"
   ]
  }
 ],
 "metadata": {
  "colab": {
   "provenance": []
  },
  "kernelspec": {
   "display_name": "Python 3",
   "name": "python3"
  },
  "language_info": {
   "name": "python"
  }
 },
 "nbformat": 4,
 "nbformat_minor": 0
}
